{
 "cells": [
  {
   "cell_type": "code",
   "execution_count": 1,
   "metadata": {},
   "outputs": [],
   "source": [
    "import numpy as np\n",
    "import matplotlib.pyplot as plt\n",
    "import pickle\n",
    "from scipy.signal import savgol_filter\n",
    "import seaborn as sn\n",
    "import pandas as pd"
   ]
  },
  {
   "cell_type": "code",
   "execution_count": 2,
   "metadata": {},
   "outputs": [],
   "source": [
    "repstr = '0'\n",
    "df0 = pickle.load( open('dataDump'+repstr+'.pickle','rb' ) )\n",
    "repstr = '1'\n",
    "df1 = pickle.load( open('dataDump'+repstr+'.pickle','rb' ) )\n",
    "repstr = '2'\n",
    "df2 = pickle.load( open('dataDump'+repstr+'.pickle','rb' ) )\n",
    "repstr = '01'\n",
    "df01 = pickle.load( open('dataDump'+repstr+'.pickle','rb' ) )\n",
    "repstr = '02'\n",
    "df02 = pickle.load( open('dataDump'+repstr+'.pickle','rb' ) )\n",
    "repstr = '12'\n",
    "df12 = pickle.load( open('dataDump'+repstr+'.pickle','rb' ) )\n",
    "repstr = '012'\n",
    "df012 = pickle.load( open('dataDump'+repstr+'.pickle','rb' ) )\n",
    "\n",
    "ntimepts = df012['ntimepts']\n",
    "ntimeptsModel = df012['ntimeptsModel']\n",
    "tspan = np.linspace(0,110,12) # 110 is the last sampling time in our experiment\n",
    "\n"
   ]
  },
  {
   "cell_type": "markdown",
   "metadata": {},
   "source": [
    "### Training error"
   ]
  },
  {
   "cell_type": "code",
   "execution_count": 3,
   "metadata": {},
   "outputs": [],
   "source": [
    "def nstep_pred(X,A,ntimepts,ntraj):\n",
    "    Xpred = np.zeros((A.shape[0],ntimepts*ntraj)) \n",
    "    count = 0\n",
    "    for i in range(0,ntraj):\n",
    "        x_test_ic = X[:,i*(ntimepts):i*(ntimepts)+1]\n",
    "        for j in range(0,ntimepts):\n",
    "            Xpred[:,count:count+1] = np.dot(np.linalg.matrix_power(A,j),x_test_ic) \n",
    "            count += 1\n",
    "    feature_means = np.mean(X,axis=1).reshape(len(X),1)\n",
    "    cd = 1 - ((np.linalg.norm(X - Xpred,ord=2)**2)/(np.linalg.norm(X - feature_means,ord=2)**2))   # coeff of determination aka R^2 \n",
    "    print(f'Coefficient of determination for n-step prediction is {cd:.3e}')\n",
    "    return Xpred\n",
    "\n",
    "def onestep_pred(X,A,ntimepts,ntraj):\n",
    "    Xpred = np.zeros((A.shape[0],ntimepts*ntraj)) \n",
    "    for i in range(0,ntraj):\n",
    "        Xpred[:,i*ntimepts:i*ntimepts+1] = X[:,i*ntimepts:i*ntimepts+1]\n",
    "        Xpred[:,i*ntimepts+1:i*ntimepts+ntimepts] = A @ X[:,i*ntimepts:i*ntimepts+ntimepts-1]\n",
    "    feature_means = np.mean(X,axis=1).reshape(len(X),1)\n",
    "    cd = 1 - ((np.linalg.norm(X - Xpred,ord=2)**2)/(np.linalg.norm(X - feature_means,ord=2)**2))   # coeff of determination aka R^2 \n",
    "    print(f'Coefficient of determination for one-step prediction is {cd:.3e}')\n",
    "    return Xpred\n",
    "    \n",
    "\n",
    "def pred_sbplts(X,Y,nrows,ncols,figtitle,figuresize=(10,7)):\n",
    "    varidx = np.random.randint(0,X.shape[0],nrows*ncols)\n",
    "    fig, ax = plt.subplots(nrows, ncols, figsize=figuresize)\n",
    "    plt.suptitle(figtitle)\n",
    "    idx = 0\n",
    "    for row in range(0,nrows):\n",
    "        for col in range(0,ncols):\n",
    "            ax[row,col].plot(X[varidx[idx],:],'o--',ms=8,lw=2,color='tab:blue');\n",
    "            ax[row,col].plot(Y[varidx[idx],:],'s--',ms=4,lw=1,color='tab:orange');\n",
    "            ax[row,col].grid()\n",
    "            ax[row,col].spines['right'].set_visible(False)\n",
    "            ax[row,col].spines['top'].set_visible(False)\n",
    "            idx += 1 \n"
   ]
  },
  {
   "cell_type": "code",
   "execution_count": 4,
   "metadata": {},
   "outputs": [
    {
     "name": "stdout",
     "output_type": "stream",
     "text": [
      "Coefficient of determination for n-step prediction is 1.000e+00\n",
      "Coefficient of determination for n-step prediction is 1.000e+00\n",
      "Coefficient of determination for n-step prediction is 1.000e+00\n"
     ]
    }
   ],
   "source": [
    "A0 = df0['A']\n",
    "X0 = df0['X']\n",
    "nreps = len(df0['reps'])\n",
    "Xpred0 = nstep_pred(X0,A0,ntimeptsModel,nreps)\n",
    "\n",
    "A1 = df1['A']\n",
    "X1 = df1['X']\n",
    "nreps = len(df1['reps'])\n",
    "Xpred1 = nstep_pred(X1,A1,ntimeptsModel,nreps)\n",
    "\n",
    "A2 = df2['A']\n",
    "X2 = df2['X']\n",
    "nreps = len(df2['reps'])\n",
    "Xpred2 = nstep_pred(X2,A2,ntimeptsModel,nreps)\n"
   ]
  },
  {
   "cell_type": "code",
   "execution_count": 5,
   "metadata": {},
   "outputs": [
    {
     "name": "stdout",
     "output_type": "stream",
     "text": [
      "Coefficient of determination for n-step prediction is 1.000e+00\n"
     ]
    }
   ],
   "source": [
    "# use replicates 01 to predict replicates 01\n",
    "A01 = df01['A']\n",
    "X01 = df01['X']\n",
    "nreps = len(df01['reps'])\n",
    "Xpred01 = nstep_pred(X01,A01,ntimeptsModel,nreps)"
   ]
  },
  {
   "cell_type": "code",
   "execution_count": 6,
   "metadata": {},
   "outputs": [
    {
     "name": "stdout",
     "output_type": "stream",
     "text": [
      "Coefficient of determination for n-step prediction is 1.000e+00\n"
     ]
    }
   ],
   "source": [
    "# Use replicates 12 to predict replicates 12\n",
    "A12 = df12['A']\n",
    "X12 = df12['X']\n",
    "nreps = len(df12['reps'])\n",
    "Xpred12 = nstep_pred(X12,A12,ntimeptsModel,nreps)\n"
   ]
  },
  {
   "cell_type": "code",
   "execution_count": 7,
   "metadata": {},
   "outputs": [
    {
     "name": "stdout",
     "output_type": "stream",
     "text": [
      "Coefficient of determination for n-step prediction is 1.000e+00\n"
     ]
    }
   ],
   "source": [
    "# Use replicates 02 to predict replicates 02\n",
    "A02 = df02['A']\n",
    "X02 = df02['X']\n",
    "nreps = len(df02['reps'])\n",
    "Xpred02 = nstep_pred(X02,A02,ntimeptsModel,nreps)\n"
   ]
  },
  {
   "cell_type": "code",
   "execution_count": 8,
   "metadata": {},
   "outputs": [
    {
     "name": "stdout",
     "output_type": "stream",
     "text": [
      "Coefficient of determination for n-step prediction is 1.000e+00\n"
     ]
    }
   ],
   "source": [
    "# Use replicates 012 to predict replicates 012\n",
    "A012 = df012['A']\n",
    "X012 = df012['X']\n",
    "nreps = len(df012['reps'])\n",
    "Xpred012 = nstep_pred(X012,A012,ntimeptsModel,nreps)\n"
   ]
  },
  {
   "cell_type": "markdown",
   "metadata": {},
   "source": [
    "### Comparing sensor genes identified by models trained on all combinations of replicates (trajectories)"
   ]
  },
  {
   "cell_type": "code",
   "execution_count": 32,
   "metadata": {},
   "outputs": [],
   "source": [
    "sg0 = set(df0['idx_maxEnergy']) # sensor genes from replicate 0\n",
    "sg1 = set(df1['idx_maxEnergy'])\n",
    "sg2 = set(df2['idx_maxEnergy'])\n",
    "sg01 = set(df01['idx_maxEnergy'])\n",
    "sg02 = set(df02['idx_maxEnergy'])\n",
    "sg12 = set(df12['idx_maxEnergy'])\n",
    "sg012 = set(df012['idx_maxEnergy'])\n"
   ]
  },
  {
   "cell_type": "code",
   "execution_count": 33,
   "metadata": {},
   "outputs": [],
   "source": [
    "# get intersections of sg012 with the rest of the sets\n",
    "sg012isg0 = (sg012 & sg0)\n",
    "sg012isg1 = (sg012 & sg1)\n",
    "sg012isg2 = (sg012 & sg2)\n",
    "sg012isg01 = (sg012 & sg01)\n",
    "sg012isg02 = (sg012 & sg02)\n",
    "sg012isg12 = (sg012 & sg12)\n",
    "sg012iall = (sg012 & sg01 & sg02 & sg12 )\n",
    "\n",
    "# get number of genes which are unique to that set among all sets\n",
    "sg0_unique = sg0 - sg1 - sg2 - sg01 - sg02 - sg12 - sg012\n",
    "sg1_unique = sg1 - sg0 - sg2 - sg01 - sg02 - sg12 - sg012\n",
    "sg2_unique = sg2 - sg1 - sg0 - sg01 - sg02 - sg12 - sg012\n",
    "sg01_unique = sg01 - sg1 - sg2 - sg0 - sg02 - sg12 - sg012\n",
    "sg02_unique = sg02 - sg1 - sg2 - sg01 - sg0 - sg12 - sg012\n",
    "sg12_unique = sg12 - sg1 - sg2 - sg01 - sg02 - sg0 - sg012\n",
    "sg012_unique = sg012 - sg1 - sg2 - sg01 - sg02 - sg12 - sg0\n"
   ]
  },
  {
   "cell_type": "code",
   "execution_count": 34,
   "metadata": {},
   "outputs": [
    {
     "data": {
      "image/png": "[encoded data removed]",
      "text/plain": [
       "<Figure size 504x360 with 1 Axes>"
      ]
     },
     "metadata": {
      "needs_background": "light"
     },
     "output_type": "display_data"
    },
    {
     "data": {
      "image/png": "[encoded data removed]",
      "text/plain": [
       "<Figure size 504x360 with 1 Axes>"
      ]
     },
     "metadata": {
      "needs_background": "light"
     },
     "output_type": "display_data"
    }
   ],
   "source": [
    "# plots intersections\n",
    "\n",
    "\n",
    "\n",
    "\n",
    "lenofints = [len(list(sg012isg0)),len(list(sg012isg1)),len(list(sg012isg2)), \\\n",
    "             len(list(sg012isg01)),len(list(sg012isg02)),len(list(sg012isg12)), \\\n",
    "             len(list(sg012iall))]\n",
    "x_pos = [i for i, _ in enumerate(lenofints)]\n",
    "plt.style.use('bmh')\n",
    "plt.rcParams.update({'figure.autolayout':True})\n",
    "plt.figure(figsize=(7,5))\n",
    "plt.barh(x_pos, lenofints, color='black');\n",
    "plt.title(\"Sensor gene set intersections\",fontsize=16);\n",
    "plt.xlabel(\"Size of set\",fontsize=14);\n",
    "yticksstr = [r'$S_{012}\\cap S_0$',r'$S_{012}\\cap S_1$',r'$S_{012}\\cap S_2$', \\\n",
    "             r'$S_{012}\\cap S_{01}$',r'$S_{012}\\cap S_{02}$',r'$S_{012}\\cap S_{12}$', \\\n",
    "             r'$S_{012}\\cap (S_{all} \\backslash S_{012})$']\n",
    "plt.yticks(x_pos, yticksstr,fontsize=16);\n",
    "plt.xticks(fontsize=14);\n",
    "plt.savefig('figures/setintersections.pdf',dpi=600)\n",
    "\n",
    "# plot uniques\n",
    "lenofuniques = [len(list(sg0_unique)),len(list(sg1_unique)),len(list(sg2_unique)), \\\n",
    "             len(list(sg01_unique)),len(list(sg02_unique)),len(list(sg12_unique)), \\\n",
    "             len(list(sg012_unique))]\n",
    "x_pos = [i for i, _ in enumerate(lenofuniques)]\n",
    "plt.style.use('bmh')\n",
    "plt.rcParams.update({'figure.autolayout':True})\n",
    "plt.figure(figsize=(7,5));\n",
    "plt.barh(x_pos, lenofuniques, color='black');\n",
    "plt.title(\"Unique sensor genes among sets\",fontsize=16);\n",
    "plt.xlabel(\"Size of set\",fontsize=14);\n",
    "yticksstr = [r'$S_{0,unique}$',r'$S_{1,unique}$',r'$S_{2,unique}$', \\\n",
    "             r'$S_{01,unique}$',r'$S_{02,unique}$',r'$S_{12,unique}$', \\\n",
    "             r'$S_{012,unique}$']\n",
    "plt.yticks(x_pos, yticksstr,fontsize=18);\n",
    "plt.xticks(fontsize=14);\n",
    "plt.savefig('figures/uniquesets.pdf',dpi=600)\n",
    "\n"
   ]
  },
  {
   "cell_type": "markdown",
   "metadata": {},
   "source": [
    "### Various plots of time traces of genes "
   ]
  },
  {
   "cell_type": "code",
   "execution_count": null,
   "metadata": {},
   "outputs": [],
   "source": [
    "def plot_means_opt_sensor_genes(names,idx,mean,stdev,nrows=2,ncols=2):\n",
    "    plt.rcParams.update({'font.size': 12})\n",
    "    f, ax = plt.subplots(nrows, ncols, figsize=(20, 20))\n",
    "    c = 0\n",
    "    ymin = mean[idx].min()-0.1\n",
    "    ymax = mean[idx].max()+0.1\n",
    "    for row in range(0,nrows):\n",
    "        for col in range(0,ncols):\n",
    "            ax[row,col].title.set_text(names[c])\n",
    "            ax[row,col].errorbar(tspan,mean[idx[c],:],\\\n",
    "                        yerr=df['stdev_bs'][idx[c],:],\\\n",
    "                        fmt='D--',c='tab:green',ms=10,ecolor='tab:green',capsize=7);\n",
    "            ax[row,col].spines['right'].set_visible(False)\n",
    "            ax[row,col].spines['top'].set_visible(False)\n",
    "            ax[row,col].set_ylim([ymin,ymax])\n",
    "            c += 1\n",
    "            \n",
    "def plots_opt_sensor_genes(names,idx,mean_c,stdev_c,mean_bs,stdev_bs,X,Xpred,Xc,Xt,ntimeptsModel):\n",
    "    gene_to_plot = idx[np.random.randint(0,len(idx))]\n",
    "    print(gene_to_plot, names[gene_to_plot])\n",
    "\n",
    "    nrows = 1\n",
    "    ncols = 3\n",
    "    fig, ax = plt.subplots(nrows, ncols, figsize=(15, 3));\n",
    "    ax[0].errorbar(tspan,mean_c[gene_to_plot,:],yerr=stdev_c[gene_to_plot,:],fmt='s--',ms=10,ecolor='tab:blue',capsize=7);\n",
    "    ax[0].errorbar(tspan,mean_t[gene_to_plot,:],yerr=stdev_t[gene_to_plot,:],fmt='o--',ms=10,ecolor='tab:orange',capsize=7);\n",
    "    ax[1].errorbar(tspan[:],mean_bs[gene_to_plot,:],yerr=stdev_bs[gene_to_plot,:],fmt='d--',c='tab:green',ms=10,ecolor='tab:green',capsize=7);\n",
    "    for i in range(0,nreps):\n",
    "        ax[2].plot(tspan[2:],Xc[gene_to_plot,i*(ntimeptsModel):i*(ntimeptsModel)+(ntimeptsModel)],'s--',ms=10,color='tab:blue');\n",
    "        ax[2].plot(tspan[2:],Xt[gene_to_plot,i*(ntimeptsModel):i*(ntimeptsModel)+(ntimeptsModel)],'o--',ms=10,color='tab:orange');    \n",
    "    for i in range(0,ncols):\n",
    "        ax[i].spines['right'].set_visible(False)\n",
    "        ax[i].spines['top'].set_visible(False)\n",
    "    ax[0].title.set_text('mean of the groups')\n",
    "    ax[1].title.set_text('mean of the background subtracted data')\n",
    "    ax[2].title.set_text('all trajectories of the groups')\n",
    "\n",
    "    nrows = 1\n",
    "    ncols = nreps\n",
    "    fig, ax = plt.subplots(nrows, ncols, figsize=(15, 3));\n",
    "    ymin = np.minimum(Xc[gene_to_plot].min(),Xt[gene_to_plot].min())-0.1\n",
    "    ymax = np.maximum(Xc[gene_to_plot].max(),Xt[gene_to_plot].max())+0.1\n",
    "    for i in range(0,nreps):\n",
    "        ax[i].set_title('Replicate'+str(i+1))\n",
    "        ax[i].plot(tspan[2:],Xc[gene_to_plot,i*(ntimeptsModel):i*(ntimeptsModel)+(ntimeptsModel)],'s--',ms=10,color='tab:blue');\n",
    "        ax[i].plot(tspan[2:],Xt[gene_to_plot,i*(ntimeptsModel):i*(ntimeptsModel)+(ntimeptsModel)],'o--',ms=10,color='tab:orange');    \n",
    "#         ax[i].plot(tspan[2:],X[gene_to_plot,i*(ntimeptsModel):i*(ntimeptsModel)+(ntimeptsModel)],'D--',ms=10,color='tab:green');    \n",
    "        ax[i].set_ylim([ymin,ymax])\n",
    "    \n",
    "    nrows = 1\n",
    "    ncols = nreps\n",
    "    fig, ax = plt.subplots(nrows, ncols, figsize=(15, 3));\n",
    "    for i in range(0,nreps):\n",
    "        ax[i].plot(savgol_filter(X[gene_to_plot,i*(ntimeptsModel):i*(ntimeptsModel)+(ntimeptsModel)],5,3),'D--',ms=10,color='tab:green');    \n",
    "        ax[i].plot(savgol_filter(Xpred[gene_to_plot,i*(ntimeptsModel):i*(ntimeptsModel)+(ntimeptsModel)],5,3),'X--',ms=10,color='tab:red');    "
   ]
  },
  {
   "cell_type": "code",
   "execution_count": null,
   "metadata": {},
   "outputs": [],
   "source": [
    "NROWS = 5\n",
    "NCOLS = 5 # there are 25 selected sensor genes. "
   ]
  },
  {
   "cell_type": "code",
   "execution_count": null,
   "metadata": {
    "scrolled": true
   },
   "outputs": [],
   "source": [
    "# plot means of background subtracted optimal sensor genes given by observability maximization using model\n",
    "\n",
    "plot_means_opt_sensor_genes(maxEnergy_geneIDs,idx_maxEnergy,mean_bs,stdev_bs,nrows=NROWS,ncols=NCOLS)\n"
   ]
  },
  {
   "cell_type": "code",
   "execution_count": null,
   "metadata": {
    "scrolled": true
   },
   "outputs": [],
   "source": [
    "# various plots for optimal sensor genes given by observability maximization using model\n",
    "\n",
    "plots_opt_sensor_genes(geneIDs,idx_maxEnergy,mean_c,stdev_c,mean_bs,stdev_bs,X,Xpred,Xc,Xt,ntimeptsModel)\n"
   ]
  },
  {
   "cell_type": "code",
   "execution_count": null,
   "metadata": {
    "scrolled": true
   },
   "outputs": [],
   "source": [
    "# plot means of background subtracted optimal sensor genes given by observability measures from differential data\n",
    "\n",
    "plot_means_opt_sensor_genes(obs_diffdata_geneIDs,idx_maxobs_diffdata,mean_bs,stdev_bs,nrows=NROWS,ncols=NCOLS)\n"
   ]
  },
  {
   "cell_type": "code",
   "execution_count": null,
   "metadata": {
    "scrolled": true
   },
   "outputs": [],
   "source": [
    "# various plots for optimal sensor genes given by observability measure of differential data\n",
    "\n",
    "plots_opt_sensor_genes(geneIDs,idx_maxobs_diffdata,mean_c,stdev_c,mean_bs,stdev_bs,X,Xpred,Xc,Xt,ntimeptsModel)"
   ]
  },
  {
   "cell_type": "code",
   "execution_count": null,
   "metadata": {
    "scrolled": true
   },
   "outputs": [],
   "source": [
    "# plot means of background subtracted optimal sensor genes given by observability measures from treatment and control\n",
    "\n",
    "plot_means_opt_sensor_genes(obs_data_geneIDs,idx_maxobs_data,mean_bs,stdev_bs,nrows=NROWS,ncols=NCOLS)"
   ]
  },
  {
   "cell_type": "code",
   "execution_count": null,
   "metadata": {
    "scrolled": true
   },
   "outputs": [],
   "source": [
    "# various plots for optimal sensor genes given by observability measure of treatment and control data\n",
    "\n",
    "plots_opt_sensor_genes(geneIDs,idx_maxobs_data,mean_c,stdev_c,mean_bs,stdev_bs,X,Xpred,Xc,Xt,ntimeptsModel)"
   ]
  }
 ],
 "metadata": {
  "kernelspec": {
   "display_name": "Python 3",
   "language": "python",
   "name": "python3"
  },
  "language_info": {
   "codemirror_mode": {
    "name": "ipython",
    "version": 3
   },
   "file_extension": ".py",
   "mimetype": "text/x-python",
   "name": "python",
   "nbconvert_exporter": "python",
   "pygments_lexer": "ipython3",
   "version": "3.8.6"
  }
 },
 "nbformat": 4,
 "nbformat_minor": 4
}
