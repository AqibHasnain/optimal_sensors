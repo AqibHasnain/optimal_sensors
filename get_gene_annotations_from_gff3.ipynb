{
 "cells": [
  {
   "cell_type": "code",
   "execution_count": 1,
   "metadata": {},
   "outputs": [],
   "source": [
    "import pandas as pd"
   ]
  },
  {
   "cell_type": "code",
   "execution_count": 2,
   "metadata": {},
   "outputs": [],
   "source": [
    "# EBG000... gene_ids belong to noncoding RNAs (ncRNA) as seen in gff3 file. need to deal with these. "
   ]
  },
  {
   "cell_type": "code",
   "execution_count": 3,
   "metadata": {},
   "outputs": [],
   "source": [
    "geneTable = pd.DataFrame(columns=['type','start','end','strand','gene_id','name','biotype','description'])"
   ]
  },
  {
   "cell_type": "code",
   "execution_count": 4,
   "metadata": {},
   "outputs": [],
   "source": [
    "f = open('data/Pseudomonas_fluorescens_sbw25.ASM922v1.48.chromosome.Chromosome.gff3')\n",
    "line = 0\n",
    "for l in f.readlines():  \n",
    "    l = l.strip().split(';')\n",
    "    l = l[0].split('\\t') + l[1:]\n",
    "    if 'gene' in l:\n",
    "        if any('ID=gene:' in elem for elem in l):\n",
    "#             print(l)\n",
    "            if len(l) == 14: # this gene has a Name field\n",
    "                geneTable.loc[line,'type'] = l[2]\n",
    "                geneTable.loc[line,'start'] = l[3]\n",
    "                geneTable.loc[line,'end'] = l[4]\n",
    "                geneTable.loc[line,'strand'] = l[6]\n",
    "                geneTable.loc[line,'gene_id'] = (l[8])[8:]\n",
    "                geneTable.loc[line,'name'] = (l[9])[5:]\n",
    "                geneTable.loc[line,'biotype'] = (l[10])[8:]\n",
    "                geneTable.loc[line,'description'] = (l[11])[12:]\n",
    "                \n",
    "            elif len(l) == 13: # this gene doesn't have a Name field\n",
    "                geneTable.loc[line,'type'] = l[2]\n",
    "                geneTable.loc[line,'start'] = l[3]\n",
    "                geneTable.loc[line,'end'] = l[4]\n",
    "                geneTable.loc[line,'strand'] = l[6]\n",
    "                geneTable.loc[line,'gene_id'] = (l[8])[8:]\n",
    "                geneTable.loc[line,'biotype'] = (l[9])[8:]\n",
    "                geneTable.loc[line,'description'] = (l[10])[12:]\n",
    "\n",
    "    line += 1\n",
    "    \n",
    "f.close()"
   ]
  },
  {
   "cell_type": "code",
   "execution_count": 5,
   "metadata": {},
   "outputs": [],
   "source": [
    "geneTable = geneTable.reset_index(drop=True)"
   ]
  },
  {
   "cell_type": "code",
   "execution_count": 6,
   "metadata": {},
   "outputs": [
    {
     "data": {
      "text/html": [
       "<div>\n",
       "<style scoped>\n",
       "    .dataframe tbody tr th:only-of-type {\n",
       "        vertical-align: middle;\n",
       "    }\n",
       "\n",
       "    .dataframe tbody tr th {\n",
       "        vertical-align: top;\n",
       "    }\n",
       "\n",
       "    .dataframe thead th {\n",
       "        text-align: right;\n",
       "    }\n",
       "</style>\n",
       "<table border=\"1\" class=\"dataframe\">\n",
       "  <thead>\n",
       "    <tr style=\"text-align: right;\">\n",
       "      <th></th>\n",
       "      <th>type</th>\n",
       "      <th>start</th>\n",
       "      <th>end</th>\n",
       "      <th>strand</th>\n",
       "      <th>gene_id</th>\n",
       "      <th>name</th>\n",
       "      <th>biotype</th>\n",
       "      <th>description</th>\n",
       "    </tr>\n",
       "  </thead>\n",
       "  <tbody>\n",
       "    <tr>\n",
       "      <th>2575</th>\n",
       "      <td>gene</td>\n",
       "      <td>2968696</td>\n",
       "      <td>2968875</td>\n",
       "      <td>-</td>\n",
       "      <td>PFLU_2690</td>\n",
       "      <td>NaN</td>\n",
       "      <td>protein_coding</td>\n",
       "      <td>conserved hypothetical protein</td>\n",
       "    </tr>\n",
       "  </tbody>\n",
       "</table>\n",
       "</div>"
      ],
      "text/plain": [
       "      type    start      end strand    gene_id name         biotype  \\\n",
       "2575  gene  2968696  2968875      -  PFLU_2690  NaN  protein_coding   \n",
       "\n",
       "                         description  \n",
       "2575  conserved hypothetical protein  "
      ]
     },
     "execution_count": 6,
     "metadata": {},
     "output_type": "execute_result"
    }
   ],
   "source": [
    "geneTable[geneTable['gene_id'].str.contains('PFLU_2690')]\n"
   ]
  }
 ],
 "metadata": {
  "kernelspec": {
   "display_name": "Python 3",
   "language": "python",
   "name": "python3"
  },
  "language_info": {
   "codemirror_mode": {
    "name": "ipython",
    "version": 3
   },
   "file_extension": ".py",
   "mimetype": "text/x-python",
   "name": "python",
   "nbconvert_exporter": "python",
   "pygments_lexer": "ipython3",
   "version": "3.8.6"
  }
 },
 "nbformat": 4,
 "nbformat_minor": 4
}
