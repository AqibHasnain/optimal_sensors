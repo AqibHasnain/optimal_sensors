{
 "cells": [
  {
   "cell_type": "markdown",
   "metadata": {},
   "source": [
    "#### In this notebook, the following will be executed: \n",
    "1. Get observability scores for each gene over the various optimization runs \n",
    "2. Scrape the intergenic regions of all genes that were modeled iff the region is >= 100 bp\n",
    "3. Sort the genes from lowest to highest based on their score and select some from the top and bottom for sensor promoter library design\n",
    "4. Add the adapter sequences to each promoter, each containing identical overhangs in case the cloning is done in pooled format\n",
    "5. Query uniprot for protein function"
   ]
  },
  {
   "cell_type": "code",
   "execution_count": null,
   "metadata": {},
   "outputs": [],
   "source": [
    "import numpy as np\n",
    "import matplotlib.pyplot as plt\n",
    "# plt.style.use('dark_background')\n",
    "plt.rcParams.update({'font.size': 18})\n",
    "plt.rcParams['axes.spines.right'] = False\n",
    "plt.rcParams['axes.spines.top'] = False\n",
    "plt.rcParams.update({'figure.autolayout': True})\n",
    "import scipy as sp\n",
    "from scipy.signal import savgol_filter as savgol\n",
    "import seaborn as sb\n",
    "import pandas as pd\n",
    "pd.set_option('display.max_rows', 1000)\n",
    "from Bio import SeqIO\n",
    "from Bio.Seq import Seq\n",
    "from Bio.SeqRecord import SeqRecord\n",
    "import os\n",
    "import sys\n",
    "from regions import get_interregions, get_promoterregions\n",
    "from copy import deepcopy\n",
    "from bioservices import UniProt\n",
    "import time\n",
    "import seaborn as sn\n",
    "from compress_pickle import dump, load\n",
    "import pickle"
   ]
  },
  {
   "cell_type": "code",
   "execution_count": null,
   "metadata": {},
   "outputs": [],
   "source": [
    "class Datatable:\n",
    "    def __init__(self,datadict,fasta_path,genbank_path,getRecords=False):\n",
    "        '''This class is an all-in-one function to 1) extract dictionary keys from run outputs \n",
    "        and 2) prepare necessary information for promoter region mining. For 2), we need both the\n",
    "        cds_from_genome.fasta as well as the .gbff as datadict's IDs are only found in the fasta \n",
    "        but the fasta is extremely unparseable (too many edge cases). The genbank file comes in handy\n",
    "        to extract descriptive gene info after identifying which features to keep using the fasta. '''\n",
    "        \n",
    "        # assign all the dictionary keys that came from the output of optimal_sensors run \n",
    "        self.X = datadict['X'] # dataset used to fit model parameters\n",
    "        self.transcriptIDs = datadict['transcriptIDs'] # all transcriptIDs of original dataset\n",
    "        self.keep_transcriptIDs = datadict['keep_transcriptIDs'] # transcriptIDs corresponding to used dataset\n",
    "        self.A = datadict['A'] # learned model\n",
    "        self.C = datadict['C'] # observer matrix\n",
    "        self.seed = datadict['seed'] # random seed for optimization \n",
    "        \n",
    "        if getRecords:\n",
    "            # get records of the genes that we have kept for analysis\n",
    "            # have to use cds_from_genome.fasta because this is the where the transcriptIDs came from (e.g. lcl|AM181176.4_cds_CAY53368.1_5775)\n",
    "            self.fasta_records = list(SeqIO.parse(fasta_path,'fasta')) # full cds_from_genome fasta\n",
    "            self.keep_fasta_records = [] # getting records of genes that we have used\n",
    "            for tx in self.keep_transcriptIDs:\n",
    "                for rec in self.fasta_records:\n",
    "                    if rec.name == tx:\n",
    "                        self.keep_fasta_records.append(rec)\n",
    "\n",
    "            # match locus_tags in keep_records (from fasta) with tags in genbank to easily parse rest of cds' description \n",
    "            # can grab gene names and tags from the fasta description, other info need to grab from the genbank\n",
    "            self.genes, self.locus_tags = [],[] \n",
    "            for rec in self.keep_fasta_records:\n",
    "                rec_elems = [x.strip().strip(']') for x in rec.description.split(' [')]\n",
    "                if 'gene=' in str(rec_elems): # sequence has gene name (e.g. gene=dnaA)\n",
    "                    self.genes.append(rec_elems[1][5:])\n",
    "                    self.locus_tags.append(rec_elems[2][10:])\n",
    "                elif 'gene=' not in str(rec_elems): # sequence has no gene name, but has locus tag\n",
    "                    self.genes.append('N/A')\n",
    "                    self.locus_tags.append(rec_elems[1][10:])\n",
    "\n",
    "            # now map the locus_tags to corresponding features in genbank, grab feature's proteins, locations, and strandedness\n",
    "            gb_records = next(SeqIO.parse(genbank_path,'genbank'))\n",
    "            self.proteins,self.locations = [],[] # each element of locations will be of length 3, 0:start,1:end,2:strand\n",
    "            for tag in self.locus_tags:\n",
    "                for feature in gb_records.features:\n",
    "                    if feature.type == 'CDS':\n",
    "                        if feature.qualifiers['locus_tag'][0] == tag: \n",
    "                            try:\n",
    "                                self.proteins.append(feature.qualifiers['product'][0])\n",
    "                            except:\n",
    "                                self.proteins.append('N/A')\n",
    "                            if feature.strand == 1: # 5' -> 3'\n",
    "                                self.locations.append([feature.location.start.position,feature.location.end.position,1])\n",
    "                            elif feature.strand == -1: # 3' -> 5' (complementary)\n",
    "                                self.locations.append([feature.location.start.position,feature.location.end.position,-1])            \n",
    "\n",
    "        # sort C in ascending order and get corresponding inds to sort other lists\n",
    "        # recall that C is a 1xN dimensional vector that contains the observability score for each gene\n",
    "        self.sorted_inds = self.C[:,0].argsort() # getting indices of C in ascending order\n",
    "        self.sorted_C = self.C[self.sorted_inds] # sort C in ascnding order \n",
    "        self.sorted_transcriptIDs = [self.keep_transcriptIDs[i] for i in self.sorted_inds]\n",
    "        if getRecords:\n",
    "            self.sorted_genes = [self.genes[i] for i in self.sorted_inds]\n",
    "            self.sorted_locus_tags = [self.locus_tags[i] for i in self.sorted_inds]\n",
    "            self.sorted_proteins = [self.proteins[i] for i in self.sorted_inds]\n",
    "            self.sorted_locations = [self.locations[i] for i in self.sorted_inds]"
   ]
  },
  {
   "cell_type": "code",
   "execution_count": null,
   "metadata": {},
   "outputs": [],
   "source": [
    "# load in the various runs of the data. \n",
    "data_path = 'data/'\n",
    "results_path = 'run-outputs/X7/'\n",
    "genbank_path = data_path+'GCA_000009225.1_ASM922v1_genomic.gbff'\n",
    "cdsFasta_path = data_path+'GCA_000009225.1_ASM922v1_cds_from_genomic.fa'\n",
    "results_paths = [results_path+file for file in os.listdir(results_path) if not file.startswith('.')]\n",
    "final_paths = []\n",
    "for ii,fn in enumerate(results_paths):\n",
    "    if '.txt' not in fn and 'dump' in fn:\n",
    "        final_paths.append(fn)\n",
    "pkl = False\n",
    "\n",
    "data = []\n",
    "if pkl:\n",
    "    for ii, file in enumerate(final_paths):\n",
    "        if ii == 0:\n",
    "            doGetRecords = True\n",
    "        else: \n",
    "            doGetRecords = False\n",
    "        data.append(Datatable(pickle.load(open(file,'rb')),cdsFasta_path,genbank_path,getRecords=doGetRecords))\n",
    "if not pkl: # then compressed pickle\n",
    "    for ii, file in enumerate(final_paths):\n",
    "        if ii == 0:\n",
    "            doGetRecords = True\n",
    "        else: \n",
    "            doGetRecords = False\n",
    "        data.append(Datatable(load(file),cdsFasta_path,genbank_path,getRecords=doGetRecords))"
   ]
  },
  {
   "cell_type": "code",
   "execution_count": null,
   "metadata": {},
   "outputs": [],
   "source": [
    "def plot_gene_traces(data,k,start='0',pltdim=(10,10),savedir='figures/',savefig=False,showfig=False):\n",
    "    '''data is a Datatable object. k is the number of genes to plot and\n",
    "    pltdim should be (sqrt(k),sqrt(k))'''\n",
    "    \n",
    "    if start=='-1':\n",
    "        X = data.X[data.sorted_inds[-k:]]\n",
    "        genes = data.sorted_genes[-k:]\n",
    "        tags = data.sorted_locus_tags[-k:]\n",
    "    else:\n",
    "        X = data.X[data.sorted_inds[0:k]]\n",
    "        genes = data.sorted_genes[0:k]\n",
    "        tags = data.sorted_locus_tags[0:k]\n",
    "    nreps = 3\n",
    "    tspan = np.linspace(20,100,X.shape[1])\n",
    "    fig, axs = plt.subplots(pltdim[0], pltdim[1], figsize=(12,10));\n",
    "    mt =  ['o--','d--','p--']\n",
    "    repname = ['R1','R2','R3']\n",
    "    colors = ['tab:blue','tab:orange','tab:green']\n",
    "    count = 0\n",
    "    for ax in axs.reshape(-1):\n",
    "        ymin,ymax = np.min(X[count])-25,np.max(X[count])+25\n",
    "        for rr in range(0,nreps): \n",
    "            ax.plot(tspan,savgol(X[count,:,rr],5,3),mt[rr],lw=2,ms=5,color=colors[rr],label=repname[rr]);\n",
    "            # add gene names or locus tags to subplot title\n",
    "            if genes[count] == 'N/A':\n",
    "                ax.set_title(tags[count],fontsize=12)\n",
    "            else:\n",
    "                ax.set_title(genes[count],fontsize=12)\n",
    "        # Hide the right and top spines and make bottom and left axes thicker\n",
    "        for axis in ['right','top']:\n",
    "            ax.spines[axis].set_visible(False)\n",
    "        for axis in ['bottom','left']:\n",
    "            ax.spines[axis].set_linewidth(1.2)\n",
    "        # increase ticklabel fontsizes\n",
    "        ax.tick_params(axis='both', which='major', labelsize=12)\n",
    "        ax.set_ylim([ymin,ymax])\n",
    "        count+=1\n",
    "        \n",
    "    axs[-1,-1].legend(repname,bbox_to_anchor=(1.05, 1),loc='upper left',markerscale=2,fontsize=12,shadow=True)\n",
    "    \n",
    "    # Set common labels\n",
    "    fig.text(0.5, -0.01, r'$Time \\; (minutes)$', ha='center', va='center',fontsize=20)\n",
    "    fig.text(-0.04, 0.5, r'$TPM_{BS}$', ha='center', va='center', rotation='vertical',fontsize=22)\n",
    "        \n",
    "    plt.tight_layout();\n",
    "    if savefig:\n",
    "        plt.savefig(savedir,bbox_inches='tight')\n",
    "    if not showfig:\n",
    "        plt.close()\n",
    "\n",
    "def plot_eigvals(matrix):\n",
    "    theta = np.linspace(0,20,100)\n",
    "    L = np.linalg.eigvals(matrix)\n",
    "    plt.figure();\n",
    "    plt.plot(np.real(L),np.imag(L),'o');\n",
    "    plt.plot(np.cos(theta),np.sin(theta),color='black',alpha=0.3)\n",
    "    plt.axis('equal');"
   ]
  },
  {
   "cell_type": "code",
   "execution_count": null,
   "metadata": {},
   "outputs": [],
   "source": [
    "# plotting each observability score individually to check for consistency of the optimization routine\n",
    "plt.figure(figsize=(10,3));\n",
    "for ii in range(len(data)):\n",
    "    plt.plot(data[ii].sorted_C,'o-',ms=4);\n",
    "    plt.ylabel(r'$C_{gene}$');\n",
    "    plt.xlabel(r'$gene$');\n"
   ]
  },
  {
   "cell_type": "code",
   "execution_count": null,
   "metadata": {},
   "outputs": [],
   "source": [
    "# getting mean of scores and sorting in ascending order\n",
    "scores = []\n",
    "for ii in range(len(data)):\n",
    "    scores.append(data[ii].C)\n",
    "scores = np.squeeze(np.array(scores),axis=2)\n",
    "mean_scores,stdev_scores = np.mean(scores,axis=0),np.std(scores,axis=0)\n",
    "sorted_inds = mean_scores.argsort() \n",
    "sorted_mean_scores = mean_scores[sorted_inds] \n",
    "sorted_stdev_scores = stdev_scores[sorted_inds]\n",
    "sorted_transcriptIDs = [data[0].keep_transcriptIDs[i] for i in sorted_inds]\n",
    "sorted_genes = [data[0].genes[i] for i in sorted_inds]\n",
    "sorted_locus_tags = [data[0].locus_tags[i] for i in sorted_inds]\n",
    "sorted_proteins = [data[0].proteins[i] for i in sorted_inds]\n",
    "sorted_locations = [data[0].locations[i] for i in sorted_inds]"
   ]
  },
  {
   "cell_type": "code",
   "execution_count": null,
   "metadata": {},
   "outputs": [],
   "source": [
    "# visualizing the mean score with standard deviation as error bars\n",
    "plt.figure(figsize=(20,10));\n",
    "plt.plot(list(range(len(sorted_mean_scores))),sorted_mean_scores,'o',color='tab:blue',mec='black')\n",
    "plt.errorbar(list(range(len(sorted_mean_scores))),sorted_mean_scores,yerr=sorted_stdev_scores,fmt='.',ms=0,\\\n",
    "             color='tab:blue',capsize=4,alpha=0.75);\n",
    "plt.xticks(ticks=list(range(len(sorted_mean_scores))),labels=sorted_genes,fontsize=14,rotation='vertical')\n",
    "# plt.xlabel(r'$g_i$');\n",
    "plt.ylabel(r'observability of $g_i$');\n",
    "plt.xlim(len(sorted_genes)-75,len(sorted_genes));\n",
    "# grids = list(np.linspace(0.0,1.0,11))\n",
    "# for ii in grids:\n",
    "#     plt.hlines(ii,0,700,color='tab:gray',alpha=0.3)\n",
    "# plt.grid('on',axis='x')\n",
    "# plt.savefig('figures/obs_scores.pdf');"
   ]
  },
  {
   "cell_type": "code",
   "execution_count": null,
   "metadata": {
    "scrolled": true
   },
   "outputs": [],
   "source": [
    "# plot bottom scorers or top scorers\n",
    "k = 49\n",
    "save_dir = 'figures/data_top50.pdf'\n",
    "plot_gene_traces(data[0],k,pltdim=(7,7),start='-1',savedir=save_dir,savefig=False,showfig=True)\n",
    "\n"
   ]
  },
  {
   "cell_type": "markdown",
   "metadata": {},
   "source": [
    "# Notes: \n",
    "1. score by cAx rather than just c\n",
    "2. smoooth both control and treatment before backsub"
   ]
  },
  {
   "cell_type": "markdown",
   "metadata": {},
   "source": [
    "#### Compare to left eigenvector approach for observability maximization"
   ]
  },
  {
   "cell_type": "code",
   "execution_count": null,
   "metadata": {},
   "outputs": [],
   "source": [
    "# left eigenvectors of matrix are given by right eigenvectors of transposed matrix\n",
    "# or we can just use scipy.linalg.eig\n",
    "llam, lvec = sp.linalg.eig(data[0].A,left=True,right=False)\n",
    "\n",
    "# Grab the left eigenvector corresponding to largest eigenvalue\n",
    "idx = np.argmax(np.absolute(llam))\n",
    "maxlvec = np.expand_dims(np.absolute(lvec[:,idx].T),axis=1)\n",
    "\n",
    "k = np.argmax(maxlvec)\n",
    "for ii in range(3):\n",
    "    plt.plot(data[0].X[k,:,ii])\n",
    "print(data[0].locus_tags[k])"
   ]
  },
  {
   "cell_type": "code",
   "execution_count": null,
   "metadata": {},
   "outputs": [],
   "source": [
    "maxlvec = maxlvec/np.max(maxlvec);\n",
    "testvec = list(maxlvec)\n",
    "# testvec.sort()\n",
    "plt.plot(testvec);"
   ]
  },
  {
   "cell_type": "code",
   "execution_count": null,
   "metadata": {},
   "outputs": [],
   "source": [
    "plt.scatter(testvec,mean_scores);\n",
    "np.linalg.norm(np.array(testvec) - np.array(mean_scores))"
   ]
  },
  {
   "cell_type": "markdown",
   "metadata": {},
   "source": [
    "#### Get the intergenic regions (or putative promoter regions) from the genbank (gbff) file"
   ]
  },
  {
   "cell_type": "code",
   "execution_count": null,
   "metadata": {},
   "outputs": [],
   "source": [
    "intergenic_records = get_interregions(genbank_path,intergene_length=100)\n",
    "# Q: What should be the minimum intergene_length? \n",
    "\n",
    "doWrite = False\n",
    "if doWrite:\n",
    "    outpath = os.path.splitext(os.path.basename(genbank_path))[0] + \"_ign.fa\"\n",
    "    SeqIO.write(intergenic_records, open('data/'+outpath, 'w'), 'fasta');"
   ]
  },
  {
   "cell_type": "markdown",
   "metadata": {},
   "source": [
    "#### Given the gene's location, output the nearest promoter region. "
   ]
  },
  {
   "cell_type": "code",
   "execution_count": null,
   "metadata": {},
   "outputs": [],
   "source": [
    "# get promoter sequences (intergenic regions) for all the genes modeled\n",
    "promoter_records = get_promoterregions(data[0],intergenic_records,genbank_path,rel_dist_thresh=5000)\n",
    "\n",
    "doWrite = False\n",
    "if doWrite:\n",
    "    outpath = os.path.splitext(os.path.basename(genbank_path))[0] + \"_promoters.fa\"\n",
    "    SeqIO.write(promoter_records, open('data/'+outpath, 'w'), 'fasta');"
   ]
  },
  {
   "cell_type": "code",
   "execution_count": null,
   "metadata": {},
   "outputs": [],
   "source": [
    "# plotting all putative promoter lengths\n",
    "promoters = []\n",
    "for record in promoter_records: \n",
    "    promoters.append(str(record.seq))\n",
    "promoters = [promoters[i] for i in sorted_inds]\n",
    "promoter_lens = [len(i) for i in promoters]\n",
    "promoter_lens.sort()\n",
    "plt.figure();\n",
    "plt.plot(promoter_lens,'o',mec='black');\n",
    "# plt.hlines(300,-10,600,color='red');\n",
    "# plt.xlim(-10,len(promoter_lens)+10);\n",
    "plt.xlabel(r'$\\mathcal{P}_i$');\n",
    "plt.ylabel(r'length in bp of $\\mathcal{P}_i$');"
   ]
  },
  {
   "cell_type": "markdown",
   "metadata": {},
   "source": [
    "#### Get promoter sequences and gene identity of top 20 or so (10 ribosomal protein coding genes and 10 other) and bottom 20 genes. \n"
   ]
  },
  {
   "cell_type": "code",
   "execution_count": null,
   "metadata": {
    "scrolled": true
   },
   "outputs": [],
   "source": [
    "# make a dataframe object which has the gene metadata\n",
    "metadf = pd.DataFrame([sorted_locus_tags,sorted_genes,sorted_proteins,sorted_locations,\\\n",
    "        list(sorted_mean_scores),promoters]).T\n",
    "metadf.columns = ['locus_tag','gene','protein','location','observability_score','promoter_sequence']\n",
    "metadf"
   ]
  },
  {
   "cell_type": "code",
   "execution_count": null,
   "metadata": {},
   "outputs": [],
   "source": [
    "# grab top 20 (10 riboProtein, 10 not)\n",
    "# grabbing them manually while ensuring they are unique sequences\n",
    "top = [505,504,503,502,501,500,499,498,497,495,493,488,485,481,480,479,470,466,462,461] # 4 to go\n",
    "# grab bottom 20 \n",
    "bottom = [0,1,2,3,4,5,6,7,9,10,11,12,13,14,15,16,17,18,19,20] # excluded 8 because sequence was duplicated\n",
    "bottom.reverse()\n",
    "selected = top+bottom"
   ]
  },
  {
   "cell_type": "markdown",
   "metadata": {},
   "source": [
    "#### Write a fasta that contains the promoter sequences for the selected promoters "
   ]
  },
  {
   "cell_type": "code",
   "execution_count": null,
   "metadata": {},
   "outputs": [],
   "source": [
    "# getting all promoter sequences that were selected into a dataframe and SeqRecord.\n",
    "selmetadf = metadf.loc[selected].reset_index()\n",
    "selected_promoters = []\n",
    "for ii,tag in enumerate(selmetadf.locus_tag):\n",
    "    for record in promoter_records:\n",
    "        if tag in record.id:\n",
    "            selected_promoters.append(SeqRecord(record.seq,id=\"%s_%s\"%(tag,'promoter'),\\\n",
    "                description=\"%d-%d-%s%d\"%(selmetadf.location[ii][0],\\\n",
    "                                        selmetadf.location[ii][1],\\\n",
    "                                        'strand',selmetadf.location[ii][2])))\n"
   ]
  },
  {
   "cell_type": "code",
   "execution_count": null,
   "metadata": {},
   "outputs": [],
   "source": [
    "selmetadf"
   ]
  },
  {
   "cell_type": "code",
   "execution_count": null,
   "metadata": {},
   "outputs": [],
   "source": [
    "# count number of unique promoter sequences\n",
    "selected_promoter_seqs = []\n",
    "for record in selected_promoters:\n",
    "    selected_promoter_seqs.append(str(record.seq))\n",
    "\n",
    "print('unique promoter sequences', len(set(selected_promoter_seqs)),'out of total genes selected',len(selected_promoter_seqs))"
   ]
  },
  {
   "cell_type": "code",
   "execution_count": null,
   "metadata": {},
   "outputs": [],
   "source": [
    "# write all selected promoters to fasta\n",
    "unique_selected_promoters = []\n",
    "for ii in range(len(selmetadf)):\n",
    "    unique_selected_promoters.append(SeqRecord(Seq(selmetadf.promoter_sequence[ii]),\\\n",
    "                                id=\"%s\"%(selmetadf.locus_tag[ii]),\\\n",
    "                                description=\"%s, %s\"%(selmetadf.location[ii],\\\n",
    "                                selmetadf.observability_score[ii])))\n",
    "    \n",
    "doWrite = False\n",
    "if doWrite:\n",
    "    outpath = os.path.splitext(os.path.basename(genbank_path))[0] + \"_selected_promoters.fa\"\n",
    "    SeqIO.write(unique_selected_promoters, open('data/'+outpath, 'w'), 'fasta');"
   ]
  },
  {
   "cell_type": "code",
   "execution_count": null,
   "metadata": {},
   "outputs": [],
   "source": [
    "# length of each selected promoter sequence plotted\n",
    "selected_promoter_lens = [len(i) for i in selmetadf.promoter_sequence]\n",
    "plt.figure(figsize=(12,4));\n",
    "plt.bar(list(range(len(selected_promoter_lens))),selected_promoter_lens,edgecolor='black');\n",
    "plt.xticks(ticks=list(range(len(selected_promoter_lens))),labels=selmetadf.gene,fontsize=16,rotation='vertical')\n",
    "plt.xlabel(r'$\\mathcal{P}_i$');\n",
    "plt.ylabel(r'length in bp of $\\mathcal{P}_i$');\n",
    "plt.tight_layout();\n",
    "# plt.savefig('figures/selected_promoter_lengths.pdf')"
   ]
  },
  {
   "cell_type": "markdown",
   "metadata": {},
   "source": [
    "#### Prep the selected sequences for golden gate assembly and pcr amplification"
   ]
  },
  {
   "cell_type": "code",
   "execution_count": null,
   "metadata": {},
   "outputs": [],
   "source": [
    "# add overhang sequences to 5' and 3' ends of each promoter\n",
    "# Golden Gate design spreadsheet\n",
    "# https://docs.google.com/spreadsheets/d/17Im8nkrhQNl_yyJ2wWQyaKKL3IpOIfpZhuRFKMVX4Nk/edit#gid=1116264433\n",
    "# realizing it might be faster to just do it in Geneious. If there were more sequences, it wouldn't be faster. "
   ]
  },
  {
   "cell_type": "markdown",
   "metadata": {},
   "source": [
    "#### Query uniprot with species id and locus tag "
   ]
  },
  {
   "cell_type": "code",
   "execution_count": null,
   "metadata": {},
   "outputs": [],
   "source": [
    "def query_uniprot(taxonomy='SBW25',all_tags_list=['PFLU_5352'],query_length=100,search_columns='genes,protein names,comment(FUNCTION)'):\n",
    "    start_time = time.time()\n",
    "    df_up = pd.DataFrame()\n",
    "    up = UniProt()\n",
    "    if len(all_tags_list)>query_length:\n",
    "        tag_lists = [all_tags_list[i:i+query_length] for i in range(0,len(all_tags_list),query_length)]\n",
    "    else:\n",
    "        tag_lists = all_tags_list   \n",
    "    for ii in range(len(tag_lists)):\n",
    "        query_search = '\\\"' + taxonomy + '\\\" AND ('\n",
    "        for locus_tag in tag_lists[ii][0:-1]:\n",
    "            query_search = query_search + '\\\"' + locus_tag + '\\\" OR '\n",
    "        query_search = query_search + '\\\"' + sorted_locus_tags[-1] + '\\\")'\n",
    "        search_result = up.search(query_search, frmt='tab',columns=search_columns)\n",
    "        str_up_ALL = search_result.split('\\n')\n",
    "        ls_up = []\n",
    "        for each_line in str_up_ALL[1:]:\n",
    "            ls_up.append(each_line.split('\\t'))\n",
    "        df_ii_up = pd.DataFrame(ls_up[0:-1])\n",
    "        df_up = df_up.append(df_ii_up)\n",
    "    df_up.columns = str_up_ALL[0].split('\\t')\n",
    "    df_up.rename(columns={'Gene names':'gene','Function [CC]':'function','Protein names':'protein'},inplace=True)\n",
    "    df_up.reset_index(inplace=True)\n",
    "    df_up.drop(columns=['index'],inplace=True)\n",
    "    print((time.time() - start_time)/60,'minutes')\n",
    "    return df_up"
   ]
  },
  {
   "cell_type": "code",
   "execution_count": null,
   "metadata": {},
   "outputs": [],
   "source": [
    "df_up = query_uniprot(all_tags_list=sorted_locus_tags[-1000:-1])"
   ]
  },
  {
   "cell_type": "code",
   "execution_count": null,
   "metadata": {},
   "outputs": [],
   "source": [
    "df_up"
   ]
  },
  {
   "cell_type": "code",
   "execution_count": null,
   "metadata": {},
   "outputs": [],
   "source": [
    "metadf['function'] = np.nan\n",
    "function = []\n",
    "for ii,tag in enumerate(metadf.locus_tag):\n",
    "    for jj,query_tag in enumerate(df_up.gene):\n",
    "        if tag in query_tag:\n",
    "            metadf.iloc[ii,-1] = df_up.function[jj]\n",
    "    if metadf.iloc[ii,-1] == '':\n",
    "        metadf.iloc[ii,-1] = metadf.iloc[ii,2]"
   ]
  },
  {
   "cell_type": "code",
   "execution_count": null,
   "metadata": {},
   "outputs": [],
   "source": [
    "metadf.observability_score = np.round(np.array(metadf.observability_score,dtype=np.float),4)"
   ]
  },
  {
   "cell_type": "code",
   "execution_count": null,
   "metadata": {},
   "outputs": [],
   "source": [
    "# output the functionality as a table along with the gene or locus_tag and observability score\n",
    "(metadf[['locus_tag','gene','observability_score','function']].iloc[len(metadf)-50:]).to_csv('test.csv',sep=',',index=False)"
   ]
  },
  {
   "cell_type": "code",
   "execution_count": null,
   "metadata": {},
   "outputs": [],
   "source": [
    "for ii,tag in enumerate(df_up.gene):\n",
    "    if 'atpE' in tag:\n",
    "        print(df_up.function[ii])"
   ]
  },
  {
   "cell_type": "code",
   "execution_count": null,
   "metadata": {},
   "outputs": [],
   "source": []
  },
  {
   "cell_type": "code",
   "execution_count": null,
   "metadata": {},
   "outputs": [],
   "source": [
    "data[0].keep_transcriptIDs.index('lcl|AM181176.4_cds_CAY47109.1_821')"
   ]
  },
  {
   "cell_type": "code",
   "execution_count": null,
   "metadata": {},
   "outputs": [],
   "source": []
  },
  {
   "cell_type": "code",
   "execution_count": null,
   "metadata": {},
   "outputs": [],
   "source": []
  },
  {
   "cell_type": "code",
   "execution_count": null,
   "metadata": {},
   "outputs": [],
   "source": []
  }
 ],
 "metadata": {
  "kernelspec": {
   "display_name": "Python 3",
   "language": "python",
   "name": "python3"
  },
  "language_info": {
   "codemirror_mode": {
    "name": "ipython",
    "version": 3
   },
   "file_extension": ".py",
   "mimetype": "text/x-python",
   "name": "python",
   "nbconvert_exporter": "python",
   "pygments_lexer": "ipython3",
   "version": "3.8.6"
  }
 },
 "nbformat": 4,
 "nbformat_minor": 4
}
