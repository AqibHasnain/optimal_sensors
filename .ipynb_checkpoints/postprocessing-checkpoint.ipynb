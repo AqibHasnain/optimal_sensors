{
 "cells": [
  {
   "cell_type": "code",
   "execution_count": 1,
   "metadata": {},
   "outputs": [],
   "source": [
    "import numpy as np\n",
    "import matplotlib.pyplot as plt\n",
    "import pickle\n",
    "from scipy.signal import savgol_filter\n",
    "import seaborn as sb\n",
    "import pandas as pd\n",
    "from Bio import SeqIO\n",
    "from Bio.SeqRecord import SeqRecord\n",
    "import os"
   ]
  },
  {
   "cell_type": "code",
   "execution_count": 2,
   "metadata": {},
   "outputs": [],
   "source": [
    "class Datatable:\n",
    "    def __init__(self,datadict,fasta_path,genbank_path):\n",
    "        '''This class is an all-in-one function to 1) extract dictionary keys from run outputs \n",
    "        and 2) prepare necessary information for promoter region mining. For 2), we need both the\n",
    "        cds_from_genome.fasta as well as the .gbff as datadict's IDs are only found in the fasta \n",
    "        but the fasta is extremely unparseable (too many edge cases). The genbank file comes in handy\n",
    "        to extract descriptive gene info after identifying which features to keep using the fasta. '''\n",
    "        \n",
    "        # assign all the dictionary keys that came from the output of optimal_sensors run\n",
    "        self.reps = datadict['reps'] # list of replicates used \n",
    "        self.ntimepts = datadict['ntimepts'] # original number of timepoints in dataset i.e. before subsetting for parameter fitting\n",
    "        self.X = datadict['X'] # dataset used to fit model parameters\n",
    "        self.newntimepts = datadict['newntimepts'] # number of timepoints in dataset used to fit model parameters\n",
    "        self.transcriptIDs = datadict['transcriptIDs'] # all transcriptIDs of original dataset\n",
    "        self.keepers = datadict['keepers'] # indicies of genes kept for parameter fitting\n",
    "        self.keep_transcriptIDs = [self.transcriptIDs[i] for i in self.keepers] # transcriptIDs corresponding to used dataset\n",
    "        self.A = datadict['A'] # learned model\n",
    "        self.cd = datadict['cd'] # R^2 obtained over n-step prediction\n",
    "        self.percent_nonzero_to_zero = datadict['percent_nonzero_to_zero'] # percent of nonzero elements that were set to zero during sparsification\n",
    "        self.C = datadict['C'] # observer matrix\n",
    "        self.opt_horizon = datadict['opt_horizon'] # horizon for optimization to obtain observer matrix\n",
    "        self.sparseThresh = datadict['sparseThresh'] # mod of all elements of A less than sparseThresh were set to 0\n",
    "        self.filter_method = datadict['filter_method'] # the method used for gene downselection \n",
    "        self.filterBeforeBS = datadict['filterBeforeBS'] # 'True' if downselection was done before background subtraction\n",
    "        self.norm = datadict['norm'] # 'True' if the data was normalized\n",
    "        \n",
    "        # get records of the genes that we have kept for analysis\n",
    "        # have to use cds_from_genome.fasta because this is the where the transcriptIDs came from (e.g. lcl|AM181176.4_cds_CAY53368.1_5775)\n",
    "        self.fasta_records = list(SeqIO.parse(fasta_path,'fasta')) # full cds_from_genome fasta\n",
    "        self.keep_fasta_records = [] # getting records of genes that we have used\n",
    "        for tx in self.keep_transcriptIDs:\n",
    "            for rec in self.fasta_records:\n",
    "                if rec.name == tx:\n",
    "                    self.keep_fasta_records.append(rec)\n",
    "                    \n",
    "        # match locus_tags in keep_records (from fasta) with tags in genbank to easily parse rest of cds' description \n",
    "        # i.e. extreme overkill for a transcript ID to locus_tag mapping\n",
    "        # can grab gene names and tags from the fasta description, other info need to grab from the genbank\n",
    "        self.genes, self.locus_tags = [],[] \n",
    "        for rec in self.keep_fasta_records:\n",
    "            rec_elems = [x.strip().strip(']') for x in rec.description.split(' [')]\n",
    "            if 'gene=' in str(rec_elems): # sequence has gene name (e.g. gene=dnaA)\n",
    "                self.genes.append(rec_elems[1][5:])\n",
    "                self.locus_tags.append(rec_elems[2][10:])\n",
    "            elif 'gene=' not in str(rec_elems): # sequence has no gene name, but has locus tag\n",
    "                self.genes.append('N/A')\n",
    "                self.locus_tags.append(rec_elems[1][10:])\n",
    "        \n",
    "        # now map the locus_tags to corresponding features in genbank, grab feature's proteins, locations, and strandedness\n",
    "        gb_records = next(SeqIO.parse(genbank_path,'genbank'))\n",
    "        self.proteins,self.locations = [],[] # each element of locations will be of length 3, 0:start,1:end,2:strand\n",
    "        for tag in self.locus_tags:\n",
    "            for feature in gb_records.features:\n",
    "                if feature.type == 'CDS':\n",
    "                    if feature.qualifiers['locus_tag'][0] == tag: \n",
    "                        self.proteins.append(feature.qualifiers['product'][0])\n",
    "                        if feature.strand == 1: # 5' -> 3'\n",
    "                            self.locations.append([feature.location.start.position,feature.location.end.position,1])\n",
    "                        elif feature.strand == -1: # 3' -> 5' (complementary)\n",
    "                            self.locations.append([feature.location.start.position,feature.location.end.position,-1])            \n",
    "        \n",
    "        # sort C in ascending order and get corresponding inds to sort other lists\n",
    "        # recall that C is a 1xN dimensional vector that contains the observability score for each gene\n",
    "        self.sorted_inds = self.C[:,0].argsort() # getting indices of C in ascending order\n",
    "        self.sorted_C = self.C[self.sorted_inds] # sort C in ascnding order \n",
    "        self.sorted_transcriptIDs = [self.keep_transcriptIDs[i] for i in self.sorted_inds]\n",
    "        self.sorted_genes = [self.genes[i] for i in self.sorted_inds]\n",
    "        self.sorted_locus_tags = [self.locus_tags[i] for i in self.sorted_inds]\n",
    "        self.sorted_proteins = [self.proteins[i] for i in self.sorted_inds]\n",
    "        self.sorted_locations = [self.locations[i] for i in self.sorted_inds]"
   ]
  },
  {
   "cell_type": "code",
   "execution_count": null,
   "metadata": {},
   "outputs": [],
   "source": [
    "data_dir = 'data/'\n",
    "results_dir = 'run-outputs/'\n",
    "genbank_path = data_dir+'GCA_000009225.1_ASM922v1_genomic.gbff'\n",
    "cdsFasta_path = data_dir+'GCA_000009225.1_ASM922v1_cds_from_genomic.fa'\n",
    "\n",
    "data0 = Datatable(pickle.load(open(results_dir+'dump012_filterB4BS_DTW_IC0_m8.pickle','rb')),cdsFasta_path,genbank_path)\n",
    "data1 = Datatable(pickle.load(open(results_dir+'dump012_filterAfterBS_DTW_IC0_m8.pickle','rb')),cdsFasta_path,genbank_path)"
   ]
  },
  {
   "cell_type": "code",
   "execution_count": null,
   "metadata": {},
   "outputs": [],
   "source": [
    "def plot_gene_traces(data,genes,tags,reps=[0,1,2],savedir='figures/',savefig=False,showfig=False):\n",
    "    '''data is of shape n x m x r where n is #genes, m is #tps, r is # replicates.\n",
    "        Make sure n is a multiple of 10. genes is a list with the gene names and tags is a list of locus_tags '''\n",
    "    tspan = np.linspace(20,100,data.shape[1])\n",
    "    nreps = len(reps)\n",
    "    data = data[:,:,reps]\n",
    "    ncols = 10\n",
    "    nrows = int(data.shape[0]/ncols) \n",
    "    fig, axs = plt.subplots(nrows, ncols, figsize=(22,17));\n",
    "    mt =  ['o--','d--','p--']\n",
    "    repname = ['R1','R2','R3']\n",
    "    colors = ['tab:blue','tab:orange','tab:green']\n",
    "    count = 0\n",
    "    for ax in axs.reshape(-1):\n",
    "        ymin,ymax = np.min(data[count])-25,np.max(data[count])+25\n",
    "        for rr in range(0,nreps):\n",
    "            ax.plot(tspan,data[count,:,rr],mt[rr],lw=2,ms=5,color=colors[rr],label=repname[rr]);\n",
    "            # add gene names or locus tags to subplot title\n",
    "            if genes[count] == 'N/A':\n",
    "                ax.set_title(tags[count],fontsize=12)\n",
    "            else:\n",
    "                ax.set_title(genes[count],fontsize=12)\n",
    "        # Hide the right and top spines and make bottom and left axes thicker\n",
    "        for axis in ['right','top']:\n",
    "            ax.spines[axis].set_visible(False)\n",
    "        for axis in ['bottom','left']:\n",
    "            ax.spines[axis].set_linewidth(1.2)\n",
    "        # increase ticklabel fontsizes\n",
    "        ax.tick_params(axis='both', which='major', labelsize=12)\n",
    "        ax.set_ylim([ymin,ymax])\n",
    "        count+=1\n",
    "        \n",
    "    axs[-1,-1].legend(repname,bbox_to_anchor=(1.05, 1),loc='upper left',markerscale=2,fontsize=12,shadow=True)\n",
    "    \n",
    "    # Set common labels\n",
    "    fig.text(0.5, -0.01, r'$Time \\; (minutes)$', ha='center', va='center',fontsize=25)\n",
    "    fig.text(-0.04, 0.5, r'$TPM_{BS}$', ha='center', va='center', rotation='vertical',fontsize=25)\n",
    "        \n",
    "    plt.tight_layout();\n",
    "    if savefig:\n",
    "        plt.savefig(savedir)\n",
    "    if not showfig:\n",
    "        plt.close()\n",
    "\n",
    "def plot_eigvals(matrix):\n",
    "    theta = np.linspace(0,20,100)\n",
    "    L = np.linalg.eigvals(matrix)\n",
    "    plt.figure();\n",
    "    plt.plot(np.real(L),np.imag(L),'o');\n",
    "    plt.plot(np.cos(theta),np.sin(theta),color='black',alpha=0.3)\n",
    "    plt.axis('equal');"
   ]
  },
  {
   "cell_type": "code",
   "execution_count": null,
   "metadata": {},
   "outputs": [],
   "source": [
    "fig,ax = plt.subplots(nrows=1,ncols=2,figsize=(15,3));\n",
    "ax[0].bar(np.arange(0,len(data0.C)),data0.C[:,0])\n",
    "ax[0].bar(np.arange(0,len(data1.C)),data1.C[:,0])\n",
    "ax[0].set_ylabel(r'$C_{gene}$',fontsize=16);\n",
    "ax[0].set_xlabel(r'$gene$',fontsize=16);\n",
    "ax[1].plot(data0.sorted_C);\n",
    "ax[1].plot(data1.sorted_C);\n",
    "ax[1].set_ylabel(r'$C_{gene}$',fontsize=16);\n",
    "ax[1].set_xlabel(r'$gene$',fontsize=16);"
   ]
  },
  {
   "cell_type": "code",
   "execution_count": null,
   "metadata": {
    "scrolled": true
   },
   "outputs": [],
   "source": [
    "k = 100\n",
    "save_dir = 'figures/data0.pdf'\n",
    "plot_gene_traces(data0.X[data0.sorted_inds[-k:]],data0.sorted_genes[-k:],data0.sorted_locus_tags[-k:],\\\n",
    "                    reps=data0.reps,savedir=save_dir,savefig=False,showfig=True)"
   ]
  },
  {
   "cell_type": "code",
   "execution_count": null,
   "metadata": {
    "scrolled": true
   },
   "outputs": [],
   "source": [
    "k = 100\n",
    "save_dir = 'figures/data1'\n",
    "plot_gene_traces(data1.X[data1.sorted_inds[-k:]],data1.sorted_genes[-k:],data1.sorted_locus_tags[-k:],\\\n",
    "                    reps=data1.reps,savedir=save_dir,savefig=False,showfig=True)"
   ]
  },
  {
   "cell_type": "markdown",
   "metadata": {},
   "source": [
    "#### Get the intergenic regions (or putative promoter regions) from the genbank (gbff) file"
   ]
  },
  {
   "cell_type": "code",
   "execution_count": null,
   "metadata": {},
   "outputs": [],
   "source": [
    "# Copyright(C) 2009 Iddo Friedberg & Ian MC Fleming\n",
    "# Released under Biopython license. http://www.biopython.org/DIST/LICENSE\n",
    "# Do not remove this comment\n",
    "# https://biopython.org/wiki/Intergenic_regions\n",
    "# Many thanks to the above authors! it only needed some mods for my purposes. it should be noted that the region\n",
    "# b/w the first and last gene in the genome is completely neglected in their version of the function\n",
    "def get_interregions(genbank_path,intergene_length=1):\n",
    "    ''' The regions between genes are termed intergenic regions. This function mines every one of\n",
    "    those regions present in a genbank (.gbff) file iff the region has length greater than intergene_length.\n",
    "    Overlapping genes do not have intergenic regions and other regions are < intergene_length, these do not \n",
    "    get mined. The output can be saved as a fasta file with the intergenic regions and descriptions such as \n",
    "    location'''\n",
    "\n",
    "    seq_record = next(SeqIO.parse(open(genbank_path), 'genbank'))\n",
    "    genome_size = len(seq_record)\n",
    "    cds_list_plus = []\n",
    "    cds_list_minus = []\n",
    "    # Loop over the genome file, get the CDS features on each of the strands\n",
    "    for feature in seq_record.features:\n",
    "        if feature.type == \"CDS\":\n",
    "            mystart = feature.location.start.position\n",
    "            myend = feature.location.end.position\n",
    "            if feature.strand == -1:\n",
    "                cds_list_minus.append((mystart, myend, -1))\n",
    "            elif feature.strand == 1:\n",
    "                cds_list_plus.append((mystart, myend, 1))\n",
    "            else:\n",
    "                sys.stderr.write(\"No strand indicated %d-%d. Assuming +\\n\" % (mystart, myend))\n",
    "                cds_list_plus.append((mystart, myend, 1))\n",
    "    intergenic_records = []\n",
    "    for i, pospair in enumerate(cds_list_plus[1:]):\n",
    "        # Compare current start position to previous end position\n",
    "        # first take care of the case where the gene starts at position 0\n",
    "        if cds_list_plus[i][0] == 0: # only need to look at the plus strand since if minus strand gene is at position zero, it's promoter region will be larger than 0 position. \n",
    "            last_end_ind = np.argmax([cds_list_plus[-1][1],cds_list_minus[-1][1]])\n",
    "            if last_end_ind == 0:\n",
    "                last_end = cds_list_plus[-1][1]\n",
    "            else:\n",
    "                last_end = cds_list_minus[-1][1]\n",
    "            this_start = genome_size\n",
    "            if this_start - last_end >= intergene_length:\n",
    "                intergene_seq = seq_record.seq[last_end:this_start]\n",
    "                strand_string='+'\n",
    "                intergenic_records.append(SeqRecord(intergene_seq,id=\"%s-ign-%d %s\"%(seq_record.name,len(cds_list_plus),strand_string),\\\n",
    "                        description=\"%d-%d\"%(last_end+1,this_start),))\n",
    "        # the rest of the regions for the plus strand\n",
    "        last_end = cds_list_plus[i][1]\n",
    "        this_start = pospair[0]\n",
    "        strand = pospair[2]\n",
    "        if this_start - last_end >= intergene_length:\n",
    "            intergene_seq = seq_record.seq[last_end:this_start]\n",
    "            strand_string = \"+\"\n",
    "            # store the intergenic region in the description field\n",
    "            intergenic_records.append(SeqRecord(intergene_seq,id=\"%s-ign-%d %s\"%(seq_record.name,i,strand_string),\\\n",
    "                        description=\"%d-%d\"%(last_end+1,this_start),))\n",
    "            \n",
    "    for i, pospair in enumerate(cds_list_minus[1:]):\n",
    "        # Compare current start position to previous end position\n",
    "        last_end = cds_list_minus[i][1]\n",
    "        this_start = pospair[0]\n",
    "        strand = pospair[2]\n",
    "        if this_start - last_end >= intergene_length:\n",
    "            intergene_seq = seq_record.seq[last_end:this_start]\n",
    "            strand_string = \"-\"\n",
    "            intergenic_records.append(SeqRecord(intergene_seq,id=\"%s-ign-%d %s\"%(seq_record.name,i,strand_string),\\\n",
    "                        description=\"%d-%d\"%(last_end+1,this_start),))\n",
    "    return intergenic_records"
   ]
  },
  {
   "cell_type": "code",
   "execution_count": null,
   "metadata": {},
   "outputs": [],
   "source": [
    "intergenic_records = get_interregions(genbank_path,intergene_length=1)\n",
    "\n",
    "doWrite = False\n",
    "if doWrite:\n",
    "    outpath = os.path.splitext(os.path.basename(genbank_path))[0] + \"_ign.fa\"\n",
    "    SeqIO.write(intergenic_records, open('data/'+outpath, 'w'), 'fasta');"
   ]
  },
  {
   "cell_type": "markdown",
   "metadata": {},
   "source": [
    "#### Given the gene's location, output the nearest promoter region. "
   ]
  },
  {
   "cell_type": "code",
   "execution_count": null,
   "metadata": {},
   "outputs": [],
   "source": [
    "data0.locations[-1]\n",
    "# if the 3rd element (strand) of locations[i] is 1, we look behind (upstream) for the promoter region\n",
    "# if the 3rd element (strand) of locations[i] is -1, we look ahead (downstream) for the promoter region"
   ]
  },
  {
   "cell_type": "code",
   "execution_count": null,
   "metadata": {},
   "outputs": [],
   "source": [
    "for record in intergenic_records:\n",
    "    print(record.seq)"
   ]
  },
  {
   "cell_type": "code",
   "execution_count": null,
   "metadata": {},
   "outputs": [],
   "source": [
    "def get_promoterregions(gene_locations,intergenic_records,genbank_path):\n",
    "    ''' '''\n",
    "    # first get the genome size\n",
    "    genome_size = len(next(SeqIO.parse(open(genbank_path),'genbank')))\n",
    "    for locations in gene_locations:\n",
    "        if locations[2] == 1: # strand equals 1\n",
    "            for feature in intergenic_records:\n",
    "                intergenic_location = [int(x) for x in feature.description.split('-')]\n",
    "                dist = locations[0] - intergenic_location[1] # start of gene minus end of intergenic region\n",
    "                print(dist)\n",
    "            break\n",
    "            "
   ]
  },
  {
   "cell_type": "code",
   "execution_count": null,
   "metadata": {},
   "outputs": [],
   "source": [
    "get_promoterregions(data0.locations,intergenic_records)"
   ]
  },
  {
   "cell_type": "code",
   "execution_count": null,
   "metadata": {},
   "outputs": [],
   "source": [
    "genome_size = len(next(SeqIO.parse(open(genbank_path), 'genbank')))"
   ]
  },
  {
   "cell_type": "code",
   "execution_count": null,
   "metadata": {},
   "outputs": [],
   "source": [
    "genome_size"
   ]
  },
  {
   "cell_type": "code",
   "execution_count": null,
   "metadata": {},
   "outputs": [],
   "source": []
  },
  {
   "cell_type": "code",
   "execution_count": null,
   "metadata": {},
   "outputs": [],
   "source": []
  },
  {
   "cell_type": "code",
   "execution_count": null,
   "metadata": {},
   "outputs": [],
   "source": []
  },
  {
   "cell_type": "code",
   "execution_count": null,
   "metadata": {},
   "outputs": [],
   "source": []
  },
  {
   "cell_type": "code",
   "execution_count": null,
   "metadata": {},
   "outputs": [],
   "source": []
  },
  {
   "cell_type": "code",
   "execution_count": null,
   "metadata": {},
   "outputs": [],
   "source": []
  },
  {
   "cell_type": "code",
   "execution_count": null,
   "metadata": {},
   "outputs": [],
   "source": []
  },
  {
   "cell_type": "code",
   "execution_count": null,
   "metadata": {},
   "outputs": [],
   "source": []
  },
  {
   "cell_type": "code",
   "execution_count": null,
   "metadata": {},
   "outputs": [],
   "source": []
  },
  {
   "cell_type": "code",
   "execution_count": null,
   "metadata": {},
   "outputs": [],
   "source": []
  }
 ],
 "metadata": {
  "kernelspec": {
   "display_name": "Python 3",
   "language": "python",
   "name": "python3"
  },
  "language_info": {
   "codemirror_mode": {
    "name": "ipython",
    "version": 3
   },
   "file_extension": ".py",
   "mimetype": "text/x-python",
   "name": "python",
   "nbconvert_exporter": "python",
   "pygments_lexer": "ipython3",
   "version": "3.8.6"
  }
 },
 "nbformat": 4,
 "nbformat_minor": 4
}
